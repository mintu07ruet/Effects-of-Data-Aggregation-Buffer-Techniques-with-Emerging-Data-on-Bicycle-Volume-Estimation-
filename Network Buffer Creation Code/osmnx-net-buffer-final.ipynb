{
 "cells": [
  {
   "cell_type": "code",
   "execution_count": 1,
   "id": "534e5d9a",
   "metadata": {},
   "outputs": [
    {
     "data": {
      "text/plain": [
       "'Generate network buffers around count locations using osmnx and networkx\\nauthor: Joe Broach <jbroach@pdx.edu> \\ncreated: May 19, 2021\\n\\nTODO : consider speeding up by splitting into parallel processes\\n\\n'"
      ]
     },
     "execution_count": 1,
     "metadata": {},
     "output_type": "execute_result"
    }
   ],
   "source": [
    "\"\"\"Generate network buffers around count locations using osmnx and networkx\n",
    "author: Joe Broach <jbroach@pdx.edu> \n",
    "created: May 19, 2021\n",
    "\n",
    "TODO : consider speeding up by splitting into parallel processes\n",
    "\n",
    "\"\"\""
   ]
  },
  {
   "cell_type": "code",
   "execution_count": 2,
   "id": "dc6bbbb0",
   "metadata": {},
   "outputs": [],
   "source": [
    "import osmnx as ox\n",
    "import networkx as nx\n",
    "import geopandas as gpd\n",
    "#import matplotlib.pyplot as plt  ## not needed\n",
    "from shapely.geometry import Point, Polygon, MultiPolygon, LineString\n",
    "import csv\n",
    "import pandas as pd\n",
    "from time import time"
   ]
  },
  {
   "cell_type": "code",
   "execution_count": 3,
   "id": "36ecc467",
   "metadata": {},
   "outputs": [],
   "source": [
    "### Modify run params here ###\n",
    "# load count locations\n",
    "location = \"Portland\"\n",
    "local_sites_file = \"F:/Bike Fusion/New Plan/Circular Automatic Collected data for modeling/Portland/Bike Fusion/sites_all_study_area.csv\"\n",
    "region_boundaries_url = \"http://web.pdx.edu/~jbroach/bike-data-fusion/study_area_boundaries.geojson\"\n",
    "outfile_dir = \"F:/Bike Fusion/New Plan/Circular Automatic Collected data for modeling/Portland/Bike Fusion\" # no trailing slash\n",
    "counter_types = set(['permanent', 'short-term'])  ## e.g. 'permanent', 'short-term'  \n",
    "buffer_dists_mi = ['0.1','0.25','0.5','0.75','1.0', '1.5', '2.0']  # in mi\n",
    "undirected = True   # if True, networkx will solve both inbound & outbound from count site\n",
    "                    # this is about 3x slower but a better measure where one-ways significant\n",
    "save_osm = False  # if True, save out a static OSM file to outfile_dir "
   ]
  },
  {
   "cell_type": "code",
   "execution_count": 4,
   "id": "0413282d",
   "metadata": {},
   "outputs": [
    {
     "data": {
      "text/plain": [
       "[160.934,\n",
       " 402.335,\n",
       " 804.67,\n",
       " 1207.0049999999999,\n",
       " 1609.34,\n",
       " 2414.0099999999998,\n",
       " 3218.68]"
      ]
     },
     "execution_count": 4,
     "metadata": {},
     "output_type": "execute_result"
    }
   ],
   "source": [
    "# convert distances to m\n",
    "k = 1609.34  # mi to m\n",
    "buffer_dists = [float(d) * k for d in buffer_dists_mi]\n",
    "buffer_dists"
   ]
  },
  {
   "cell_type": "code",
   "execution_count": 5,
   "id": "2415d788",
   "metadata": {},
   "outputs": [
    {
     "name": "stdout",
     "output_type": "stream",
     "text": [
      "199 sites found like...\n"
     ]
    },
    {
     "data": {
      "text/plain": [
       "[{'site_id': 'P001POR',\n",
       "  'site_name': 'HAWTHORNE BR north side',\n",
       "  'region': 'Portland',\n",
       "  'sensor_type': 'permanent',\n",
       "  'latitude': '45.51383',\n",
       "  'longitude': '-122.67284',\n",
       "  'strava_id': '857907',\n",
       "  'osm_id_sensor': '681301893',\n",
       "  'comment': '',\n",
       "  'in_2019': '1',\n",
       "  'in_2018': '1',\n",
       "  'in_2017': '1',\n",
       "  'in_2018_or_2019': '1'},\n",
       " {'site_id': 'P002POR',\n",
       "  'site_name': 'HAWTHORNE BR south side',\n",
       "  'region': 'Portland',\n",
       "  'sensor_type': 'permanent',\n",
       "  'latitude': '45.513187',\n",
       "  'longitude': '-122.67121',\n",
       "  'strava_id': '860881',\n",
       "  'osm_id_sensor': '689032191',\n",
       "  'comment': '',\n",
       "  'in_2019': '1',\n",
       "  'in_2018': '1',\n",
       "  'in_2017': '1',\n",
       "  'in_2018_or_2019': '1'}]"
      ]
     },
     "execution_count": 5,
     "metadata": {},
     "output_type": "execute_result"
    }
   ],
   "source": [
    "with open(local_sites_file, encoding='utf-8-sig') as f:\n",
    "    reader = csv.DictReader(f)\n",
    "    site_points = [row for row in reader if row['region'] == location and \n",
    "                  row['sensor_type'] in counter_types]  \n",
    "print('{} sites found like...'.format(len(site_points)))\n",
    "site_points[:2]"
   ]
  },
  {
   "cell_type": "code",
   "execution_count": 6,
   "id": "228f2a6c",
   "metadata": {},
   "outputs": [
    {
     "name": "stdout",
     "output_type": "stream",
     "text": [
      "   fid     region comment  epsg_local  \\\n",
      "0    1    Boulder    None        2772   \n",
      "1    2     Eugene    None        2839   \n",
      "2    3       Bend    None        2839   \n",
      "3    4  Charlotte    None        3358   \n",
      "4    5     Dallas    None        2845   \n",
      "\n",
      "                                            geometry  \n",
      "0  MULTIPOLYGON (((-105.64858 40.06198, -105.6480...  \n",
      "1  MULTIPOLYGON (((-123.73473 43.94406, -123.7392...  \n",
      "2  MULTIPOLYGON (((-121.40550 44.39315, -121.4025...  \n",
      "3  MULTIPOLYGON (((-80.74046 35.37771, -80.73779 ...  \n",
      "4  MULTIPOLYGON (((-96.52941 32.54528, -96.52964 ...  \n",
      "AxesSubplot(0.125,0.277657;0.775x0.449685)\n",
      "local srid = 2838\n"
     ]
    },
    {
     "data": {
      "image/png": "[encoded data removed]",
      "text/plain": [
       "<Figure size 432x288 with 1 Axes>"
      ]
     },
     "metadata": {
      "needs_background": "light"
     },
     "output_type": "display_data"
    }
   ],
   "source": [
    "# Read region boundaries from master file\n",
    "polybound = gpd.read_file(region_boundaries_url)\n",
    "print(polybound.head())\n",
    "print(polybound.plot())\n",
    "\n",
    "# select regional boundary and transform to local coords for buffering\n",
    "local_poly = polybound[polybound['region'] == location]\n",
    "local_srid = int(local_poly['epsg_local'])\n",
    "print('local srid = {}'.format(local_srid))"
   ]
  },
  {
   "cell_type": "code",
   "execution_count": 7,
   "id": "7873f7ae",
   "metadata": {},
   "outputs": [
    {
     "name": "stdout",
     "output_type": "stream",
     "text": [
      "AxesSubplot(0.125,0.127085;0.775x0.75083)\n",
      "AxesSubplot(0.147591,0.125;0.729818x0.755)\n"
     ]
    },
    {
     "data": {
      "image/png": "[encoded data removed]",
      "text/plain": [
       "<Figure size 432x288 with 1 Axes>"
      ]
     },
     "metadata": {
      "needs_background": "light"
     },
     "output_type": "display_data"
    },
    {
     "data": {
      "image/png": "[encoded data removed]",
      "text/plain": [
       "<Figure size 432x288 with 1 Axes>"
      ]
     },
     "metadata": {
      "needs_background": "light"
     },
     "output_type": "display_data"
    }
   ],
   "source": [
    "local_poly = local_poly.to_crs(local_srid)\n",
    "print(local_poly.plot())\n",
    "\n",
    "three_miles = 1609.34 * 3 # 3 miles in meters  TODO : make this smarter\n",
    "poly_buff = local_poly.buffer(three_miles)\n",
    "print(poly_buff.plot())\n",
    "\n",
    "# convert to unprojected polygon for osmnx data pull\n",
    "polygon = poly_buff.to_crs(4326).iloc[0]\n",
    "#polygon"
   ]
  },
  {
   "cell_type": "code",
   "execution_count": 8,
   "id": "d8d1a93c",
   "metadata": {},
   "outputs": [
    {
     "name": "stdout",
     "output_type": "stream",
     "text": [
      "Pulling OSM network...\n",
      "...completed in 4.23 minutes\n"
     ]
    }
   ],
   "source": [
    "print('Pulling OSM network...')\n",
    "t1 = time()\n",
    "# Pull the network for region boundary\n",
    "G = ox.graph_from_polygon(polygon, network_type='bike', simplify=True)\n",
    "print('...completed in {:.2f} minutes'.format((time() - t1) / 60))"
   ]
  },
  {
   "cell_type": "code",
   "execution_count": 9,
   "id": "2c4385c0",
   "metadata": {},
   "outputs": [
    {
     "name": "stdout",
     "output_type": "stream",
     "text": [
      "Projecting OSM network...\n",
      "...completed in 1.33 minutes\n"
     ]
    }
   ],
   "source": [
    "print('Projecting OSM network...')\n",
    "t1 = time()\n",
    "G_proj = ox.projection.project_graph(G, to_crs=local_srid)\n",
    "print('...completed in {:.2f} minutes'.format((time() - t1) / 60))"
   ]
  },
  {
   "cell_type": "code",
   "execution_count": 10,
   "id": "04bfc6e1",
   "metadata": {},
   "outputs": [],
   "source": [
    "def make_iso_polys(G, center_node, buffer_dists, undirected=False,\n",
    "                   edge_buff=60, node_buff=0, infill=False):\n",
    "    \"\"\"modified from osmnx example\"\"\"\n",
    "    isochrone_polys = []\n",
    "    for buffer_dist in sorted(buffer_dists, reverse=True):\n",
    "        subgraph = nx.ego_graph(G, center_node, radius=buffer_dist, distance='length',\n",
    "                               undirected=undirected)\n",
    "        \n",
    "        node_points = [Point((data['x'], data['y'])) for node, data in subgraph.nodes(data=True)]\n",
    "        nodes_gdf = gpd.GeoDataFrame({'id': subgraph.nodes()}, geometry=node_points)\n",
    "        nodes_gdf = nodes_gdf.set_index('id')\n",
    "\n",
    "        edge_lines = []\n",
    "        for n_fr, n_to in subgraph.edges():\n",
    "            f = nodes_gdf.loc[n_fr].geometry\n",
    "            t = nodes_gdf.loc[n_to].geometry\n",
    "            try:\n",
    "                edge_lookup = G.get_edge_data(n_fr, n_to)[0].get(\"geometry\", LineString([f, t]))\n",
    "            except KeyError as e:\n",
    "                multi_edges = G.get_edge_data(n_fr, n_to)\n",
    "                edge_lookup = multi_edges[list(multi_edges.keys())[0]].get(\n",
    "                    \"geometry\", LineString([f, t]))\n",
    "                #raise Exception(\"Error tracing link from {} to {} ({} to {})\".format(n_fr, n_to, f, t)) from e\n",
    "            edge_lines.append(edge_lookup)\n",
    "\n",
    "        n = nodes_gdf.buffer(node_buff).geometry\n",
    "        e = gpd.GeoSeries(edge_lines).buffer(edge_buff).geometry\n",
    "        all_gs = list(n) + list(e)\n",
    "        new_iso = gpd.GeoSeries(all_gs).unary_union\n",
    "        \n",
    "        # If desired, try and \"fill in\" surrounded\n",
    "        # areas so that shapes will appear solid and blocks\n",
    "        # won't have white space inside of them\n",
    "        if infill:\n",
    "            new_iso = Polygon(new_iso.exterior)\n",
    "        isochrone_polys.append(new_iso)\n",
    "    return isochrone_polys"
   ]
  },
  {
   "cell_type": "code",
   "execution_count": 11,
   "id": "753d0794",
   "metadata": {},
   "outputs": [
    {
     "name": "stdout",
     "output_type": "stream",
     "text": [
      "Calculating buffers for ['0.1', '0.25', '0.5', '0.75', '1.0', '1.5', '2.0'] miles...\n",
      "P001POR\n",
      "P002POR\n",
      "P003POR\n",
      "P004POR\n",
      "P005POR\n",
      "P006POR\n",
      "P007POR\n",
      "P008POR\n",
      "P009POR\n",
      "P010POR\n",
      "P011POR\n",
      "P012POR\n",
      "P013POR\n",
      "P014POR\n",
      "S001POR\n",
      "S002POR\n",
      "S003POR\n",
      "S004POR\n",
      "S005POR\n",
      "S006POR\n",
      "S007POR\n",
      "S008POR\n",
      "S009POR\n",
      "S010POR\n",
      "S011POR\n",
      "S012POR\n",
      "S013POR\n",
      "S014POR\n",
      "S015POR\n",
      "S016POR\n",
      "S017POR\n",
      "S018POR\n",
      "S019POR\n",
      "S020POR\n",
      "S021POR\n",
      "S022POR\n",
      "S023POR\n",
      "S024POR\n",
      "S025POR\n",
      "S026POR\n",
      "S027POR\n",
      "S028POR\n",
      "S029POR\n",
      "S030POR\n",
      "S031POR\n",
      "S032POR\n",
      "S033POR\n",
      "S034POR\n",
      "S035POR\n",
      "S036POR\n",
      "S037POR\n",
      "S038POR\n",
      "S039POR\n",
      "S040POR\n",
      "S041POR\n",
      "S042POR\n",
      "S043POR\n",
      "S044POR\n",
      "S045POR\n",
      "S046POR\n",
      "S047POR\n",
      "S048POR\n",
      "S049POR\n",
      "S050POR\n",
      "S051POR\n",
      "S052POR\n",
      "S053POR\n",
      "S054POR\n",
      "S055POR\n",
      "S056POR\n",
      "S057POR\n",
      "S058POR\n",
      "S059POR\n",
      "S060POR\n",
      "S061POR\n",
      "S062POR\n",
      "S063POR\n",
      "S064POR\n",
      "S065POR\n",
      "S066POR\n",
      "S067POR\n",
      "S068POR\n",
      "S069POR\n",
      "S070POR\n",
      "S071POR\n",
      "S072POR\n",
      "S073POR\n",
      "S074POR\n",
      "S075POR\n",
      "S076POR\n",
      "S077POR\n",
      "S078POR\n",
      "S079POR\n",
      "S080POR\n",
      "S081POR\n",
      "S082POR\n",
      "S083POR\n",
      "S084POR\n",
      "S085POR\n",
      "S086POR\n",
      "S087POR\n",
      "S088POR\n",
      "S089POR\n",
      "S090POR\n",
      "S091POR\n",
      "S092POR\n",
      "S093POR\n",
      "S094POR\n",
      "S095POR\n",
      "S096POR\n",
      "S097POR\n",
      "S098POR\n",
      "S099POR\n",
      "S100POR\n",
      "S101POR\n",
      "S102POR\n",
      "S103POR\n",
      "S104POR\n",
      "S105POR\n",
      "S106POR\n",
      "S107POR\n",
      "S108POR\n",
      "S109POR\n",
      "S110POR\n",
      "S111POR\n",
      "S112POR\n",
      "S113POR\n",
      "S114POR\n",
      "S115POR\n",
      "S116POR\n",
      "S117POR\n",
      "S118POR\n",
      "S119POR\n",
      "S120POR\n",
      "S121POR\n",
      "S122POR\n",
      "S123POR\n",
      "S124POR\n",
      "S125POR\n",
      "S126POR\n",
      "S127POR\n",
      "S128POR\n",
      "S129POR\n",
      "S130POR\n",
      "S131POR\n",
      "S132POR\n",
      "S133POR\n",
      "S134POR\n",
      "S135POR\n",
      "S136POR\n",
      "S137POR\n",
      "S138POR\n",
      "S139POR\n",
      "S140POR\n",
      "S141POR\n",
      "S142POR\n",
      "S143POR\n",
      "S144POR\n",
      "S145POR\n",
      "S146POR\n",
      "S147POR\n",
      "S148POR\n",
      "S149POR\n",
      "S150POR\n",
      "S151POR\n",
      "S152POR\n",
      "S153POR\n",
      "S154POR\n",
      "S155POR\n",
      "S156POR\n",
      "S157POR\n",
      "S158POR\n",
      "S159POR\n",
      "S160POR\n",
      "S161POR\n",
      "S162POR\n",
      "S163POR\n",
      "S164POR\n",
      "S165POR\n",
      "S166POR\n",
      "S167POR\n",
      "S168POR\n",
      "S169POR\n",
      "S170POR\n",
      "S171POR\n",
      "S172POR\n",
      "S173POR\n",
      "S174POR\n",
      "S175POR\n",
      "S176POR\n",
      "S177POR\n",
      "S178POR\n",
      "S179POR\n",
      "S180POR\n",
      "S181POR\n",
      "S182POR\n",
      "S183POR\n",
      "S184POR\n",
      "S185POR\n",
      "...completed in 784.07 minutes\n"
     ]
    }
   ],
   "source": [
    "print('Calculating buffers for {} miles...'.format(buffer_dists_mi))\n",
    "t1 = time()\n",
    "iso_polys = pd.DataFrame(columns=('geometry', 'buff_dist', 'site_id'))\n",
    "for site in site_points:\n",
    "    print(site['site_id'])\n",
    "    lat = float(site['latitude'])\n",
    "    lng = float(site['longitude'])\n",
    "    # locate nearest node on nearest edge (to avoid closer nodes on other edges)\n",
    "    # based on: https://github.com/gboeing/osmnx/issues/269\n",
    "    u, v, k = ox.distance.get_nearest_edge(G, (lat, lng))\n",
    "    center_node = min((u, v), \n",
    "                      key=lambda n: ox.distance.great_circle_vec(lat, lng, \n",
    "                                                                 G.nodes[n]['y'], \n",
    "                                                                 G.nodes[n]['x']))\n",
    "    site_iso_polys = make_iso_polys(G_proj, center_node, \n",
    "                                    buffer_dists, undirected=True,\n",
    "                                    edge_buff=60, node_buff=0, infill=False)\n",
    "    df = pd.DataFrame(zip(site_iso_polys, list(reversed(buffer_dists_mi)), \n",
    "                      [site['site_id']] * len(buffer_dists_mi)), \n",
    "                      columns=('geometry', 'buff_dist', 'site_id'))\n",
    "    iso_polys = iso_polys.append(df, ignore_index=True)\n",
    "print('...completed in {:.2f} minutes'.format((time() - t1) / 60))"
   ]
  },
  {
   "cell_type": "code",
   "execution_count": 12,
   "id": "4a1777d2",
   "metadata": {},
   "outputs": [
    {
     "name": "stdout",
     "output_type": "stream",
     "text": [
      "Writing results to shapefile...\n",
      "Results written to: F:/Bike Fusion/New Plan/Circular Automatic Collected data for modeling/Portland/Bike Fusion/Portland-net-buff-60m-2017_2019.shp\n"
     ]
    }
   ],
   "source": [
    "print('Writing results to shapefile...')\n",
    "outfile = \"{}-net-buff-60m-2017_2019.shp\".format(location)\n",
    "gdf = gpd.GeoDataFrame(iso_polys, crs=local_srid)\n",
    "gdf.head()\n",
    "gdf.to_file('{}/{}'.format(outfile_dir, outfile), \n",
    "            driver='ESRI Shapefile')\n",
    "print('Results written to: {}/{}'.format(outfile_dir, outfile))"
   ]
  },
  {
   "cell_type": "code",
   "execution_count": 13,
   "id": "f691b292",
   "metadata": {},
   "outputs": [],
   "source": [
    "# optionally, save out osmnx graphs for future use/archiving/testing\n",
    "if save_osm is True:\n",
    "    print('Writing OSM graphml files...')\n",
    "    t1 = time()\n",
    "    filepath = outfile_dir + '/ox-{}-G_{}.graphml'.format(location, time())\n",
    "    ox.io.save_graphml(G, filepath=filepath, \n",
    "                       gephi=False, encoding='utf-8')\n",
    "    print('...wrote G to {}'.format(filepath))\n",
    "    print('...completed in {:.2f} minutes'.format((time() - t1) / 60))\n"
   ]
  },
  {
   "cell_type": "code",
   "execution_count": 14,
   "id": "a27fdff2",
   "metadata": {},
   "outputs": [],
   "source": [
    "# optionally, save out geopackage for debugging\n",
    "#ox.io.save_graph_geopackage(G, \n",
    "#                            filepath=\"/Volumes/LaCie/Data/Shapes/ox/ox-{}-G\".format(location), \n",
    "#                            encoding='utf-8', directed=True)\n"
   ]
  },
  {
   "cell_type": "code",
   "execution_count": null,
   "id": "978a38cf",
   "metadata": {},
   "outputs": [],
   "source": []
  },
  {
   "cell_type": "code",
   "execution_count": null,
   "id": "6874f404",
   "metadata": {},
   "outputs": [],
   "source": []
  }
 ],
 "metadata": {
  "kernelspec": {
   "display_name": "Python 3",
   "language": "python",
   "name": "python3"
  },
  "language_info": {
   "codemirror_mode": {
    "name": "ipython",
    "version": 3
   },
   "file_extension": ".py",
   "mimetype": "text/x-python",
   "name": "python",
   "nbconvert_exporter": "python",
   "pygments_lexer": "ipython3",
   "version": "3.9.2"
  }
 },
 "nbformat": 4,
 "nbformat_minor": 5
}
